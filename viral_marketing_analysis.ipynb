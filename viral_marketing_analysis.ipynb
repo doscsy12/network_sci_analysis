{
 "cells": [
  {
   "cell_type": "markdown",
   "metadata": {},
   "source": [
    "\n",
    "# Viral Marketing using NetworkX\n",
    "\n",
    "Social network platforms like Facebook or Twitter are becoming major sources of information channels. On these new media platforms, everyone acts as both information generator and consumer. In a sense, the spreading of information, or opinions, shares some resemblance with disease spreading. Instead of the disease infecting one person to the next, information is spread from one person to the next. Hence the term 'viral marketing' is used to define the information that goes viral or spreads over social networks, much like an epidemic.\n"
   ]
  },
  {
   "cell_type": "markdown",
   "metadata": {},
   "source": [
    "**SIR model in information spreading**\n",
    "\n",
    "SIR model has been used in disease spreading analysis. However, it can also be used to analyse spreading of information. In the context of Twitter, a particular tweet that originates from a single or a group of Twitter accounts.  The traditional SIR model (in disease spreading) can be mapped onto information spreading as follows:\n",
    "\n",
    "1. Susceptible - a person has not retweeted the particular tweet.\n",
    "\n",
    "2. Infected - the person has retweeted it and the retweet remains visible to its followers on Twitter, such that the followers have a chance to retweet it.\n",
    "\n",
    "3. Removed -  the person has retweeted sometime ago, and the tweet is no longer visible. Thus, this person is not going to retweet the same information again, and none of its followers could retweet.\n",
    "\n",
    "It is some empirical evidence that the original SIR model in disease spreading, would differ and not behave the real 'spreading' behaviours of people. But for the sake of simplicity, the original SIR model would be utilised here. Similarly, $\\beta$ is the probability that a person would spread the tweet/ information to each of its susceptible neighbors. $\\alpha$ is the probability that the tweet is no longer visible.\n"
   ]
  },
  {
   "cell_type": "markdown",
   "metadata": {},
   "source": [
    "## Problem statement\n",
    "\n",
    "The maximization of viral spreading through selecting the best set of seed nodes is being explored here. This means what are the best seed nodes to infect/start tweeting in the initialisation round, such that the tweet/information can reach the widest population (with fixed $\\beta$ and $\\alpha$ values)?  \n",
    "<br>\n",
    "Mathematically, if $T$ is defined as the expected number of people who would retweet the information eventually, how do we  select the initial nodes to maximize the value of $T$? To estimate a reliable $T$ value, multiple simulations (Monte Carlo) for each initialization will run to get the average $\\langle T\\rangle $ value. The initialisation is critical to this problem since it determines the final $\\langle T \\rangle$ value.\n"
   ]
  },
  {
   "cell_type": "markdown",
   "metadata": {},
   "source": [
    "*import libraries*"
   ]
  },
  {
   "cell_type": "code",
   "execution_count": 1,
   "metadata": {},
   "outputs": [],
   "source": [
    "import networkx as nx \n",
    "import numpy as np \n",
    "\n",
    "%matplotlib inline \n",
    "import matplotlib.pyplot as plt \n",
    "import matplotlib.patches as mpatches \n",
    "from __future__ import unicode_literals \n",
    "import random \n",
    "from tqdm import tqdm \n",
    "import sys \n",
    "import operator \n",
    "from enum import * # used for the states S,I,R"
   ]
  },
  {
   "cell_type": "code",
   "execution_count": 2,
   "metadata": {},
   "outputs": [],
   "source": [
    "class State(Enum): # define the three states of the nodes.\n",
    "    Succeptible = 0\n",
    "    Infected = 1\n",
    "    Removed = 2"
   ]
  },
  {
   "cell_type": "code",
   "execution_count": 3,
   "metadata": {},
   "outputs": [],
   "source": [
    "def reset(G):\n",
    "    \"\"\" Initialise/reset all the nodes in the network, before experiment\"\"\"\n",
    "    nx.set_node_attributes(G, State.Succeptible,'state')\n",
    "        "
   ]
  },
  {
   "cell_type": "code",
   "execution_count": 4,
   "metadata": {
    "scrolled": false
   },
   "outputs": [],
   "source": [
    "def initialise_infection_random(G, num_to_infect):\n",
    "    \"\"\"Set random selection of nodes to be infected\"\"\"\n",
    "    nodes_to_infect = random.sample(G.nodes(), num_to_infect)\n",
    "    for n in nodes_to_infect:\n",
    "        G.nodes[n]['state'] = State.Infected\n",
    "    return nodes_to_infect\n",
    "\n",
    "def execute_one_step(G, model):\n",
    "    \"\"\"execute the infection model\"\"\"\n",
    "    for n in G:\n",
    "        model(n, G)\n",
    "\n",
    "def get_infection_stats(G):\n",
    "    \"\"\"Creates lists of nodes in the graph G that are susceptible, infected and removed\"\"\"\n",
    "    infected = []\n",
    "    succeptible = []\n",
    "    removed = []\n",
    "    for n in G:\n",
    "        if G.nodes[n]['state'] == State.Infected:\n",
    "            infected.append(n)\n",
    "        elif G.nodes[n]['state'] == State.Succeptible:\n",
    "            succeptible.append(n)\n",
    "        else:\n",
    "            removed.append(n)\n",
    "    return succeptible, infected, removed\n",
    "\n",
    "def print_infection_stats(G):\n",
    "    \"\"\"Prints the number of susceptible, infected and removed nodes in graph G.\"\"\"\n",
    "    s,i,r = get_infection_stats(G)\n",
    "    print(\"Susceptible: %d Infected: %d Removed %d\"% (len(s),len(i),len(r)))\n",
    "\n",
    "def transmission_model_factory(beta=0.03, alpha=0.05):\n",
    "    \"\"\"beta: specifies the rate of infection (movement from S to I)\n",
    "    alpha: specifies the rate of removal (movement from I to R)\"\"\"\n",
    "    def m(n, G):\n",
    "        if G.nodes[n]['state'] == State.Infected:\n",
    "            # infect susceptible neighbours with probability pInfect\n",
    "            for k in G.neighbors(n):\n",
    "                if G.nodes[k]['state'] == State.Succeptible:\n",
    "                    if random.random() <= beta:\n",
    "                        G.nodes[k]['state'] = State.Infected\n",
    "            if random.random() <= alpha:\n",
    "                G.nodes[n]['state'] = State.Removed                \n",
    "    return m"
   ]
  },
  {
   "cell_type": "code",
   "execution_count": 5,
   "metadata": {},
   "outputs": [],
   "source": [
    "def run_spread_simulation(G, model, initially_infected, run_visualise=False):\n",
    "    \"\"\"Runs a single simulation of infection on the graph G, using the specified model\"\"\"\n",
    "    #initially_infected = initialise_infection_degree(G, initial_infection_count)\n",
    "\n",
    "    s_results = []\n",
    "    i_results = []\n",
    "    r_results = []\n",
    "\n",
    "    dt = 0\n",
    "    s,i,r = get_infection_stats(G)\n",
    "    \n",
    "    pos = nx.spring_layout(G, k=.75)\n",
    "    \n",
    "    while len(i) > 0:\n",
    "        execute_one_step(G, model)\n",
    "        dt += 1\n",
    "        s,i,r = get_infection_stats(G)\n",
    "        s_results.append(len(s))\n",
    "        i_results.append(len(i))\n",
    "        r_results.append(len(r))\n",
    "        sys.stderr.write('\\rInfected: %d time step: %d' % (len(i), dt))\n",
    "        sys.stderr.flush()\n",
    "        if run_visualise:\n",
    "            draw_network_to_file(G,pos,dt,initially_infected)\n",
    "    return s_results, i_results, r_results, dt, initially_infected\n",
    "\n",
    "def plot_infection(S,I,R,G):\n",
    "    \"\"\"Creates a plot of the S,I,R output of a spread simulation\"\"\"\n",
    "    peak_incidence = max(I)\n",
    "    peak_time = I.index(max(I))\n",
    "    total_infected = S[0]-S[-1]\n",
    "\n",
    "    fig_size= [18,13]\n",
    "    plt.rcParams.update({'font.size': 14, \"figure.figsize\": fig_size})\n",
    "    xvalues = range(len(S))\n",
    "    plt.plot(xvalues, S, color='g', linestyle='-', label=\"S\")\n",
    "    plt.plot(xvalues, I, color='b', linestyle='-', label=\"I\")\n",
    "    plt.plot(xvalues, R, color='r', linestyle='-', label=\"R\")\n",
    "    plt.axhline(peak_incidence, color='b', linestyle='--', label=\"Peak Indidence\")\n",
    "    plt.annotate(str(peak_incidence),xy=(1,peak_incidence+10), color='b')\n",
    "    plt.axvline(peak_time, color='b', linestyle=':', label=\"Peak Time\")\n",
    "    plt.annotate(str(peak_time),xy=(peak_time+1,8), color='b')\n",
    "    plt.axhline(total_infected, color='r', linestyle='--', label=\"Total Infected\")\n",
    "    plt.annotate(str(total_infected),xy=(1,total_infected+10), color='r')\n",
    "    plt.legend()\n",
    "    plt.xlabel('time step')\n",
    "    plt.ylabel('Count')\n",
    "    plt.title('SIR for network size ' + str(G.order()))\n",
    "    plt.show()\n",
    "    \n",
    "def draw_network_to_file(G,pos,t, initially_infected):\n",
    "    # create the layout\n",
    "    states = []\n",
    "    for n in G.nodes():\n",
    "        if n in initially_infected:\n",
    "            states.append(3)\n",
    "        else:\n",
    "            states.append(G.nodes[n]['state']) \n",
    "    from matplotlib import colors\n",
    "    cmap = colors.ListedColormap(['green', 'blue','red', 'yellow'])\n",
    "    bounds=[0,1,2,3]\n",
    "\n",
    "    # draw all the nodes and the edges \n",
    "    nx.draw_networkx_nodes(G,pos,cmap=cmap,alpha=0.5,node_size=170, node_color=states)\n",
    "    nx.draw_networkx_edges(G,pos,alpha=0.075)\n",
    "    plt.savefig(\"images/g\"+str(t)+\".png\")\n",
    "    plt.clf()\n",
    "    \n",
    "def plotDistribution(_influences):\n",
    "    plt.hist(_influences,range=[0,1],bins=30)\n",
    "    plt.title(\"Realisations\")\n",
    "    plt.xlabel(\"Number of infected nodes / Total number of nodes\")\n",
    "    plt.ylabel(\"Frequency\")\n",
    "    plt.show()"
   ]
  },
  {
   "cell_type": "markdown",
   "metadata": {},
   "source": [
    "## Setting up experiment\n",
    "\n",
    "In the first experiments, these parameters are specified:\n",
    "\n",
    "1. Size of network $N$\n",
    "2. Initial Network $Gra$\n",
    "3. The transmission model $m$ that specifies how a node infects others\n",
    "4. The number of initial seed nodes $ini$ to spread the information (initial infected nodes)\n",
    "\n",
    "In reality, the value of $ini$ is related to the company budget. A company (with a larger budget) can afford a larger $ini$ to pay more Twitter users (or influencers) to share their commercial on their tweets. \n"
   ]
  },
  {
   "cell_type": "code",
   "execution_count": 6,
   "metadata": {},
   "outputs": [],
   "source": [
    "#Initialise the network\n",
    "# size of network \n",
    "N = 1000 \n",
    "#create network with specified m value\n",
    "Gra = nx.barabasi_albert_graph(N, 3) \n",
    "m = transmission_model_factory(0.08, 0.5) \n",
    "ini = 5 \n",
    "sampleSize = 20 "
   ]
  },
  {
   "cell_type": "markdown",
   "metadata": {},
   "source": [
    "## Running first experiment\n",
    "\n",
    "In the experiment, an initial number of infected nodes were randomly selected and repeated multiple times. At the end of the simulation, the final number of removed nodes $R$ is the number of people who retweeted the same tweet. In the same regard, this is the final popularity of the information $T$. Calculating the average of the $R$ values gives the expected $T$ value we want to maximize.\n"
   ]
  },
  {
   "cell_type": "code",
   "execution_count": 7,
   "metadata": {},
   "outputs": [
    {
     "name": "stderr",
     "output_type": "stream",
     "text": [
      "Infected: 0 time step: 284"
     ]
    },
    {
     "name": "stdout",
     "output_type": "stream",
     "text": [
      "The expected influence of the seed nodes is 0.15685\n"
     ]
    },
    {
     "data": {
      "image/png": "[encoded data removed]",
      "text/plain": [
       "<Figure size 432x288 with 1 Axes>"
      ]
     },
     "metadata": {
      "needs_background": "light"
     },
     "output_type": "display_data"
    }
   ],
   "source": [
    "# run Monte Carlo simulations\n",
    "Influences = []  \n",
    "for i in range(sampleSize):\n",
    "    reset(Gra) \n",
    "    initially_infected = initialise_infection_random(Gra, ini)\n",
    "    S, I, R, endtime, ii = run_spread_simulation(Gra, m, initially_infected)\n",
    "    Influences.append(float(R[-1])/len(Gra))\n",
    "print('The expected influence of the seed nodes is', np.average(Influences))\n",
    "plotDistribution(Influences)"
   ]
  },
  {
   "cell_type": "markdown",
   "metadata": {},
   "source": [
    "From the above plot, there are two peaks (or bimodal spreading behaviour) with one near 0, and one near 0.3. This means the information spread either does not spread at all, or up to about 30% of the whole network once it does. "
   ]
  },
  {
   "cell_type": "markdown",
   "metadata": {},
   "source": [
    "## Seeding initial nodes by degree\n",
    "\n",
    "Rather than selecting initial spreaders (of information) randomly, the following case selects the nodes with the largest (or smallest) degree to start the spreading. \n"
   ]
  },
  {
   "cell_type": "code",
   "execution_count": 8,
   "metadata": {},
   "outputs": [],
   "source": [
    "def initialise_infection_degree(G, num_to_infect, largest=True):\n",
    "    degrees = G.degree() #get degrees of every node\n",
    "    #the nodes are sorted in order of degree, highest degree first.\n",
    "    nodes_to_infect = []\n",
    "    nodes_sorted_by_degree = sorted(dict(degrees()).items(), key=operator.itemgetter(1), reverse=largest) \n",
    "    for x in range(num_to_infect): \n",
    "        nodes_to_infect.append(nodes_sorted_by_degree[x])\n",
    "    for n in nodes_to_infect:\n",
    "        G.nodes[n[0]]['state'] = State.Infected\n",
    "    return nodes_to_infect\n"
   ]
  },
  {
   "cell_type": "markdown",
   "metadata": {},
   "source": [
    "**Running Monte Carlo simulations using the largest degree nodes as seeds**"
   ]
  },
  {
   "cell_type": "code",
   "execution_count": 9,
   "metadata": {},
   "outputs": [
    {
     "name": "stderr",
     "output_type": "stream",
     "text": [
      "Infected: 0 time step: 205"
     ]
    },
    {
     "name": "stdout",
     "output_type": "stream",
     "text": [
      "The expected influence of the seed nodes is 0.26070000000000004\n"
     ]
    },
    {
     "data": {
      "image/png": "[encoded data removed]",
      "text/plain": [
       "<Figure size 432x288 with 1 Axes>"
      ]
     },
     "metadata": {
      "needs_background": "light"
     },
     "output_type": "display_data"
    }
   ],
   "source": [
    "Influences = []  \n",
    "for i in range(sampleSize):\n",
    "    reset(Gra) \n",
    "    initially_infected = initialise_infection_degree(Gra, ini)\n",
    "    S, I, R, endtime, ii = run_spread_simulation(Gra, m, initially_infected)\n",
    "    Influences.append(float(R[-1])/len(Gra))\n",
    "print('The expected influence of the seed nodes is', np.average(Influences))\n",
    "plotDistribution(Influences)"
   ]
  },
  {
   "cell_type": "markdown",
   "metadata": {},
   "source": [
    "From the above plot, the simulation result exhibit the same bimodal behavior as well: either it does not spread out, or spreads out to 30% of the total network eventually. The interesting phenomenon is that the position of the large peak is similar to the first experiment (random initialisation).\n"
   ]
  },
  {
   "cell_type": "markdown",
   "metadata": {},
   "source": [
    "**Running Monte Carlo simulations using the smallest degree nodes as seeds**"
   ]
  },
  {
   "cell_type": "code",
   "execution_count": 10,
   "metadata": {},
   "outputs": [
    {
     "name": "stderr",
     "output_type": "stream",
     "text": [
      "Infected: 0 time step: 305"
     ]
    },
    {
     "name": "stdout",
     "output_type": "stream",
     "text": [
      "The expected influence of the seed nodes is 0.19795\n"
     ]
    },
    {
     "data": {
      "image/png": "[encoded data removed]",
      "text/plain": [
       "<Figure size 432x288 with 1 Axes>"
      ]
     },
     "metadata": {
      "needs_background": "light"
     },
     "output_type": "display_data"
    }
   ],
   "source": [
    "Influences = []  #stores the total number of removed nodes in each run.\n",
    "for i in range(sampleSize):\n",
    "    reset(Gra) # initialise all nodes to susceptible\n",
    "    initially_infected = initialise_infection_degree(Gra, ini, largest = False)\n",
    "    S, I, R, endtime, ii = run_spread_simulation(Gra, m, initially_infected)\n",
    "    Influences.append(float(R[-1])/len(Gra))\n",
    "print('The expected influence of the seed nodes is', np.average(Influences))\n",
    "plotDistribution(Influences)"
   ]
  },
  {
   "cell_type": "markdown",
   "metadata": {},
   "source": [
    "From the above plot, the simulation result exhibit the same bimodal behavior as well: either it does not spread out, or spreads out to 30% of the total network eventually. The interesting phenomenon is that the position of the large peak is similar to the first experiment (random initialisation)."
   ]
  },
  {
   "cell_type": "markdown",
   "metadata": {},
   "source": [
    "## Seeding initial nodes by betweenness centrality\n",
    "\n",
    "Another experiment is to select the set of nodes with the high betweenness centrality. 'Betweenness' measures the number of shortest paths that a node lies on. In other words, the node (person) most likely to act as a bridge along/between other nodes. \n"
   ]
  },
  {
   "cell_type": "code",
   "execution_count": 11,
   "metadata": {},
   "outputs": [],
   "source": [
    "def initialise_infection_betweenness(G, num_to_infect, largest=True):\n",
    "    #the nodes are sorted in order of betweenness centrality, highest first.\n",
    "    nodes_to_infect = []\n",
    "    bet_cen = nx.betweenness_centrality(G)\n",
    "    nodes_sorted_by_betweenness = sorted(bet_cen.items(), key=operator.itemgetter(1), reverse=largest)\n",
    "    for x in range(num_to_infect): \n",
    "        nodes_to_infect.append(nodes_sorted_by_betweenness[x])\n",
    "    for n in nodes_to_infect:\n",
    "        G.nodes[n[0]]['state'] = State.Infected\n",
    "    return nodes_to_infect\n"
   ]
  },
  {
   "cell_type": "code",
   "execution_count": 12,
   "metadata": {},
   "outputs": [
    {
     "name": "stderr",
     "output_type": "stream",
     "text": [
      "Infected: 0 time step: 192"
     ]
    },
    {
     "name": "stdout",
     "output_type": "stream",
     "text": [
      "The expected influence of the seed nodes is 0.2547\n"
     ]
    },
    {
     "data": {
      "image/png": "[encoded data removed]",
      "text/plain": [
       "<Figure size 432x288 with 1 Axes>"
      ]
     },
     "metadata": {
      "needs_background": "light"
     },
     "output_type": "display_data"
    }
   ],
   "source": [
    "# run Monte Carlo simulations\n",
    "Influences = []  \n",
    "for i in range(sampleSize):\n",
    "    reset(Gra) \n",
    "    initially_infected = initialise_infection_betweenness(Gra, ini)\n",
    "    S, I, R, endtime, ii = run_spread_simulation(Gra, m, initially_infected)\n",
    "    Influences.append(float(R[-1])/len(Gra))\n",
    "print('The expected influence of the seed nodes is', np.average(Influences))\n",
    "plotDistribution(Influences)"
   ]
  },
  {
   "cell_type": "markdown",
   "metadata": {},
   "source": [
    "From the above plot, the simulation result would exhibit the same bimodal behavior as well: either it does not spread out, or spreads out to 30% of the total network eventually.\n"
   ]
  },
  {
   "cell_type": "markdown",
   "metadata": {},
   "source": [
    "## Bimodel behavior and the critical point\n",
    "\n",
    "The reason behind this bimodal behaviour (in the above simulations), is due to the existence of the so-called 'Giant Component' in the network. Typically, a component is considered 'giant', when the connected set of nodes contains a significant proportion (more than half) of the entire nodes in the network. In other words, the giant component will still hold a significant fraction of the nodes, even if the network expands. This occurs especially in social media; Social networks often start off as having many components, but they grow to form giant components. Thus, the position of that peak is around 0.3 regardless of the initialisation conditions (random, degree, betweenness).\n"
   ]
  },
  {
   "cell_type": "markdown",
   "metadata": {},
   "source": [
    "However, the thing is - a tweet needs to go 'viral' to be considered as viral marketing. This 'viral' condition has a clear definition in complex networks, called critical threshold $\\gamma_c$. This threshold condition links the information spread within the network topology, where $\\gamma = \\beta/\\alpha$ signifies the spreading strength of the tweet (or information). \n",
    "<br>\n",
    "<br> In the case of Erdos-Renyi networks, $\\gamma_c=1/(\\langle k \\rangle -1)$. The tweet is not considered to be 'viral' if its $\\gamma$ value is below the critical value; It has a *CHANCE* to go viral only when $\\gamma>\\gamma_c$. \n",
    "\n"
   ]
  },
  {
   "cell_type": "markdown",
   "metadata": {},
   "source": [
    "## Below the critical threshold\n",
    "\n",
    "The created Erdos-Renyi network has average degree 5, thus its critical threshold $\\gamma_c=1/(5-1)=0.25$.\n",
    "<br> The transmission model has $\\beta=0.01$ and $\\alpha=0.5$, thus $\\gamma = 0.01/0.5 = 0.2$. Since $\\gamma<\\gamma_c$ (i.e., $\\gamma$ is smaller than the critical threshold), the spread is not expected to go viral.\n"
   ]
  },
  {
   "cell_type": "code",
   "execution_count": 13,
   "metadata": {},
   "outputs": [],
   "source": [
    "#Initialise the network\n",
    "# size of network \n",
    "N = 1000 \n",
    "# create network with average degree 5.0\n",
    "Gra = nx.erdos_renyi_graph(N,5.0/N) \n",
    "m = transmission_model_factory(0.01, 0.5) \n",
    "ini = 5 "
   ]
  },
  {
   "cell_type": "code",
   "execution_count": 14,
   "metadata": {},
   "outputs": [
    {
     "name": "stderr",
     "output_type": "stream",
     "text": [
      "Infected: 0 time step: 5"
     ]
    },
    {
     "name": "stdout",
     "output_type": "stream",
     "text": [
      "The expected influence of the seed nodes is 0.0055000000000000005\n"
     ]
    },
    {
     "data": {
      "image/png": "[encoded data removed]",
      "text/plain": [
       "<Figure size 432x288 with 1 Axes>"
      ]
     },
     "metadata": {
      "needs_background": "light"
     },
     "output_type": "display_data"
    }
   ],
   "source": [
    "# run Monte Carlo simulations\n",
    "Influences = []  #stores the total number of removed nodes in each run.\n",
    "for i in range(sampleSize):\n",
    "    reset(Gra) # initialise all nodes to susceptible\n",
    "    initially_infected = initialise_infection_random(Gra, ini)\n",
    "    S, I, R, endtime, ii = run_spread_simulation(Gra, m, initially_infected)\n",
    "    Influences.append(float(R[-1])/len(Gra))\n",
    "print('The expected influence of the seed nodes is', np.average(Influences))\n",
    "plotDistribution(Influences)"
   ]
  },
  {
   "cell_type": "markdown",
   "metadata": {},
   "source": [
    "From the above simulation, the information does not spread out (i.e., does not go viral).\n"
   ]
  },
  {
   "cell_type": "markdown",
   "metadata": {},
   "source": [
    "## Above the critical threshold\n",
    "\n",
    "The transmission model parameters are changed to $\\beta=0.15$ and $\\alpha=0.5$, such that the $\\gamma$ value is above the critical threshold. "
   ]
  },
  {
   "cell_type": "code",
   "execution_count": 15,
   "metadata": {},
   "outputs": [],
   "source": [
    "#Initialise the network\n",
    "N = 1000 \n",
    "Gra = nx.erdos_renyi_graph(N,5.0/N) \n",
    "m = transmission_model_factory(0.15, 0.5) \n",
    "ini = 5"
   ]
  },
  {
   "cell_type": "code",
   "execution_count": 16,
   "metadata": {},
   "outputs": [
    {
     "name": "stderr",
     "output_type": "stream",
     "text": [
      "Infected: 0 time step: 374"
     ]
    },
    {
     "name": "stdout",
     "output_type": "stream",
     "text": [
      "The expected influence of the seed nodes is 0.35285\n"
     ]
    },
    {
     "data": {
      "image/png": "[encoded data removed]",
      "text/plain": [
       "<Figure size 432x288 with 1 Axes>"
      ]
     },
     "metadata": {
      "needs_background": "light"
     },
     "output_type": "display_data"
    }
   ],
   "source": [
    "# run Monte Carlo simulations\n",
    "Influences = []  \n",
    "for i in range(sampleSize):\n",
    "    reset(Gra) \n",
    "    initially_infected = initialise_infection_random(Gra, ini)\n",
    "    S, I, R, endtime, ii = run_spread_simulation(Gra, m, initially_infected)\n",
    "    Influences.append(float(R[-1])/len(Gra))\n",
    "print('The expected influence of the seed nodes is', np.average(Influences))\n",
    "plotDistribution(Influences)"
   ]
  },
  {
   "cell_type": "markdown",
   "metadata": {},
   "source": [
    "From the above plot, it is observed that some of the information (or tweet) will reach a higher/ significant portion of the whole network."
   ]
  },
  {
   "cell_type": "markdown",
   "metadata": {},
   "source": [
    "## Conclusion\n",
    "\n",
    "From the simulations above, it is demonstrated that viral spreading occurs only when the information/tweet reaches a certain threshold level of spreading strength $\\gamma$. For any given network structure and model construct (SIR or linear threshold model etc.), there is a well-defined threshold that the information (or disease) can go *VIRAL*. \n",
    "<br>\n",
    "<br> The computational time in the above experiments is also non-negligible, for 1000 nodes and a few thousand links in total. In a real social networks with total number of nodes/accounts in the order of millions, the computational time for a supercomputer would take years for the purpose of finding the best set of seed nodes. "
   ]
  }
 ],
 "metadata": {
  "kernelspec": {
   "display_name": "Python 3",
   "language": "python",
   "name": "python3"
  },
  "language_info": {
   "codemirror_mode": {
    "name": "ipython",
    "version": 3
   },
   "file_extension": ".py",
   "mimetype": "text/x-python",
   "name": "python",
   "nbconvert_exporter": "python",
   "pygments_lexer": "ipython3",
   "version": "3.8.8"
  },
  "toc": {
   "base_numbering": 1,
   "nav_menu": {},
   "number_sections": true,
   "sideBar": true,
   "skip_h1_title": false,
   "title_cell": "Table of Contents",
   "title_sidebar": "Contents",
   "toc_cell": false,
   "toc_position": {},
   "toc_section_display": true,
   "toc_window_display": true
  }
 },
 "nbformat": 4,
 "nbformat_minor": 1
}
