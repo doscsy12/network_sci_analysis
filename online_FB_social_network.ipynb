{
 "cells": [
  {
   "cell_type": "markdown",
   "metadata": {},
   "source": [
    "\n",
    "# Studying real social network\n",
    "\n",
    "Social network platforms like Facebook are becoming major sources of information channels. On these new media platforms, everyone acts as both information generator and consumer. In a sense, the spreading of information, or opinions, shares some resemblance with disease spreading. Instead of the disease infecting one person to the next, information is spread from one person to the next. \n"
   ]
  },
  {
   "cell_type": "markdown",
   "metadata": {},
   "source": [
    "**SIR model in information spreading**\n",
    "\n",
    "As previous, SIR model is utilised here, to analyse the spread of information. In the context of Facebook (FB), a particular message that originates from a single or a group of FB accounts.  So the traditional SIR model (in disease spreading) can be mapped onto information spreading, as follows:\n",
    "\n",
    "**S**usceptible - a person has not read or shared the particular FB update/message/news.\n",
    "\n",
    "**I**nfected - the person has shared it and the FB update/message remains visible to its FB friends.\n",
    "\n",
    "**R**emoved - the person has  deleted the FB update/message. So none of its FB friends can share the message."
   ]
  },
  {
   "cell_type": "markdown",
   "metadata": {},
   "source": [
    "## Problem statement\n",
    "\n",
    "The maximization of viral (information) spreading through selecting the best set of seed nodes is being explored here. This means finding the best seed nodes to infect/start messaging in the initialisation round, such that the information can reach the widest population (with fixed $\\beta$ and $\\alpha$ values)? $\\beta$ is the probability that a person would spread the FB message/information to each of its 'susceptible' connections. $\\alpha$ is the probability that the FB message is no longer visible.\n",
    "\n",
    "Real social networks are complicated, with more intricate local and global structures like assortativity, clustering and communities; They are also much larger with up to billions of nodes for Facebook and Twitter. Here, the New Orleans Facebook network is used to study the information spreading over real social networks. **The aim is try to find the 10 (most influential) nodes that maximizes the final percentage of infected nodes.**"
   ]
  },
  {
   "cell_type": "markdown",
   "metadata": {},
   "source": [
    "*import libraries*"
   ]
  },
  {
   "cell_type": "code",
   "execution_count": 35,
   "metadata": {},
   "outputs": [],
   "source": [
    "import networkx as nx \n",
    "import numpy as np \n",
    "\n",
    "%matplotlib inline \n",
    "import matplotlib.pyplot as plt \n",
    "import matplotlib.patches as mpatches \n",
    "from __future__ import unicode_literals \n",
    "import random \n",
    "from tqdm import tqdm \n",
    "import sys \n",
    "import operator \n",
    "from enum import * # used for the states S,I,R"
   ]
  },
  {
   "cell_type": "code",
   "execution_count": 2,
   "metadata": {},
   "outputs": [],
   "source": [
    "class State(Enum): # define the three states of the nodes.\n",
    "    Succeptible = 0\n",
    "    Infected = 1\n",
    "    Removed = 2"
   ]
  },
  {
   "cell_type": "code",
   "execution_count": 3,
   "metadata": {},
   "outputs": [],
   "source": [
    "def reset(G):\n",
    "    \"\"\" Initialise/reset all the nodes in the network, before experiment\"\"\"\n",
    "    nx.set_node_attributes(G, State.Succeptible,'state')\n",
    "        "
   ]
  },
  {
   "cell_type": "code",
   "execution_count": 4,
   "metadata": {
    "scrolled": false
   },
   "outputs": [],
   "source": [
    "def initialise_infection_random(G, num_to_infect):\n",
    "    \"\"\"Set random selection of nodes to be infected\"\"\"\n",
    "    nodes_to_infect = random.sample(G.nodes(), num_to_infect)\n",
    "    for n in nodes_to_infect:\n",
    "        G.nodes[n]['state'] = State.Infected\n",
    "    return nodes_to_infect\n",
    "\n",
    "def execute_one_step(G, model):\n",
    "    \"\"\"execute the infection model\"\"\"\n",
    "    for n in G:\n",
    "        model(n, G)\n",
    "\n",
    "def get_infection_stats(G):\n",
    "    \"\"\"Creates lists of nodes in the graph G that are susceptible, infected and removed\"\"\"\n",
    "    infected = []\n",
    "    succeptible = []\n",
    "    removed = []\n",
    "    for n in G:\n",
    "        if G.nodes[n]['state'] == State.Infected:\n",
    "            infected.append(n)\n",
    "        elif G.nodes[n]['state'] == State.Succeptible:\n",
    "            succeptible.append(n)\n",
    "        else:\n",
    "            removed.append(n)\n",
    "    return succeptible, infected, removed\n",
    "\n",
    "def print_infection_stats(G):\n",
    "    \"\"\"Prints the number of susceptible, infected and removed nodes in graph G.\"\"\"\n",
    "    s,i,r = get_infection_stats(G)\n",
    "    print(\"Susceptible: %d Infected: %d Removed %d\"% (len(s),len(i),len(r)))\n",
    "\n",
    "def transmission_model_factory(beta=0.03, alpha=0.05):\n",
    "    \"\"\"beta: specifies the rate of infection (movement from S to I)\n",
    "    alpha: specifies the rate of removal (movement from I to R)\"\"\"\n",
    "    def m(n, G):\n",
    "        if G.nodes[n]['state'] == State.Infected:\n",
    "            # infect susceptible neighbours with probability pInfect\n",
    "            for k in G.neighbors(n):\n",
    "                if G.nodes[k]['state'] == State.Succeptible:\n",
    "                    if random.random() <= beta:\n",
    "                        G.nodes[k]['state'] = State.Infected\n",
    "            if random.random() <= alpha:\n",
    "                G.nodes[n]['state'] = State.Removed                \n",
    "    return m"
   ]
  },
  {
   "cell_type": "code",
   "execution_count": 5,
   "metadata": {},
   "outputs": [],
   "source": [
    "def run_spread_simulation(G, model, initially_infected, run_visualise=False):\n",
    "    \"\"\"Runs a single simulation of infection on the graph G, using the specified model\"\"\"\n",
    "    #initially_infected = initialise_infection_degree(G, initial_infection_count)\n",
    "\n",
    "    s_results = []\n",
    "    i_results = []\n",
    "    r_results = []\n",
    "\n",
    "    dt = 0\n",
    "    s,i,r = get_infection_stats(G)\n",
    "    \n",
    "    pos = nx.spring_layout(G, k=.75)\n",
    "    \n",
    "    while len(i) > 0:\n",
    "        execute_one_step(G, model)\n",
    "        dt += 1\n",
    "        s,i,r = get_infection_stats(G)\n",
    "        s_results.append(len(s))\n",
    "        i_results.append(len(i))\n",
    "        r_results.append(len(r))\n",
    "        sys.stderr.write('\\rInfected: %d time step: %d' % (len(i), dt))\n",
    "        sys.stderr.flush()\n",
    "        if run_visualise:\n",
    "            draw_network_to_file(G,pos,dt,initially_infected)\n",
    "    return s_results, i_results, r_results, dt, initially_infected\n",
    "\n",
    "def plot_infection(S,I,R,G):\n",
    "    \"\"\"Creates a plot of the S,I,R output of a spread simulation\"\"\"\n",
    "    peak_incidence = max(I)\n",
    "    peak_time = I.index(max(I))\n",
    "    total_infected = S[0]-S[-1]\n",
    "\n",
    "    fig_size= [18,13]\n",
    "    plt.rcParams.update({'font.size': 14, \"figure.figsize\": fig_size})\n",
    "    xvalues = range(len(S))\n",
    "    plt.plot(xvalues, S, color='g', linestyle='-', label=\"S\")\n",
    "    plt.plot(xvalues, I, color='b', linestyle='-', label=\"I\")\n",
    "    plt.plot(xvalues, R, color='r', linestyle='-', label=\"R\")\n",
    "    plt.axhline(peak_incidence, color='b', linestyle='--', label=\"Peak Indidence\")\n",
    "    plt.annotate(str(peak_incidence),xy=(1,peak_incidence+10), color='b')\n",
    "    plt.axvline(peak_time, color='b', linestyle=':', label=\"Peak Time\")\n",
    "    plt.annotate(str(peak_time),xy=(peak_time+1,8), color='b')\n",
    "    plt.axhline(total_infected, color='r', linestyle='--', label=\"Total Infected\")\n",
    "    plt.annotate(str(total_infected),xy=(1,total_infected+10), color='r')\n",
    "    plt.legend()\n",
    "    plt.xlabel('time step')\n",
    "    plt.ylabel('Count')\n",
    "    plt.title('SIR for network size ' + str(G.order()))\n",
    "    plt.show()\n",
    "    \n",
    "def draw_network_to_file(G,pos,t, initially_infected):\n",
    "    # create the layout\n",
    "    states = []\n",
    "    for n in G.nodes():\n",
    "        if n in initially_infected:\n",
    "            states.append(3)\n",
    "        else:\n",
    "            states.append(G.nodes[n]['state']) \n",
    "    from matplotlib import colors\n",
    "    cmap = colors.ListedColormap(['green', 'blue','red', 'yellow'])\n",
    "    bounds=[0,1,2,3]\n",
    "\n",
    "    # draw all the nodes and the edges \n",
    "    nx.draw_networkx_nodes(G,pos,cmap=cmap,alpha=0.5,node_size=170, node_color=states)\n",
    "    nx.draw_networkx_edges(G,pos,alpha=0.075)\n",
    "    plt.savefig(\"images/g\"+str(t)+\".png\")\n",
    "    plt.clf()\n",
    "    \n",
    "def plotDistribution(_influences):\n",
    "    plt.hist(_influences,range=[0,1],bins=30)\n",
    "    plt.title(\"Realisations\")\n",
    "    plt.xlabel(\"Number of infected nodes / Total number of nodes\")\n",
    "    plt.ylabel(\"Frequency\")\n",
    "    plt.show()"
   ]
  },
  {
   "cell_type": "markdown",
   "metadata": {},
   "source": [
    "## Setting up experiment\n",
    "Parameters specified:\n",
    "\n",
    "1. Size of network $N$\n",
    "2. Facebook network $FB$\n",
    "3. The transmission model $m$ that specifies how a node infects others\n",
    "4. The number of initial seed nodes $ini$ to spread the information (initial infected nodes)\n"
   ]
  },
  {
   "cell_type": "markdown",
   "metadata": {},
   "source": [
    "\n",
    "The Facebook Network Data of New Orleans used in the 2009 research article 'On the Evolution of User Interaction in Facebook' by Bimal Viswanath and Alan Mislove and Meeyoung Cha and Krishna P. Gummadi, published in Proceedings of the 2nd ACM SIGCOMM Workshop on Social Networks (http://socialnetworks.mpi-sws.org/data-wosn2009.html)."
   ]
  },
  {
   "cell_type": "code",
   "execution_count": 34,
   "metadata": {},
   "outputs": [
    {
     "name": "stdout",
     "output_type": "stream",
     "text": [
      "The Facebook network contains  63731  nodes, and  817090  edges.\n"
     ]
    }
   ],
   "source": [
    "#import facebook network data\n",
    "fh=open(\"facebook-links.txt\",\"rb\")\n",
    "FB=nx.read_edgelist(fh,nodetype=int,data = False)\n",
    "\n",
    "#check the total size of the network\n",
    "N = FB.order()\n",
    "L = FB.size()\n",
    "print('The Facebook network contains ', N , ' nodes, and ', L, ' edges.')"
   ]
  },
  {
   "cell_type": "code",
   "execution_count": 32,
   "metadata": {},
   "outputs": [],
   "source": [
    "# initial seed nodes\n",
    "ini = 10 \n",
    "sampleSize = 5 "
   ]
  },
  {
   "cell_type": "markdown",
   "metadata": {},
   "source": [
    "$\\beta$ is the probability that a person would spread the FB message/information to each of its 'susceptible' connections. $\\alpha$ is the probability that the FB message is no longer visible."
   ]
  },
  {
   "cell_type": "code",
   "execution_count": 36,
   "metadata": {},
   "outputs": [],
   "source": [
    "m = transmission_model_factory(beta=0.08, alpha=0.5) "
   ]
  },
  {
   "cell_type": "markdown",
   "metadata": {},
   "source": [
    "**Running Monte Carlo simulations picking random seeds during initialisation**"
   ]
  },
  {
   "cell_type": "code",
   "execution_count": 33,
   "metadata": {},
   "outputs": [
    {
     "name": "stderr",
     "output_type": "stream",
     "text": [
      "Infected: 0 time step: 22734"
     ]
    },
    {
     "name": "stdout",
     "output_type": "stream",
     "text": [
      "The expected influence of the seed nodes is 0.642246316549246\n"
     ]
    },
    {
     "data": {
      "image/png": "[encoded data removed]",
      "text/plain": [
       "<Figure size 432x288 with 1 Axes>"
      ]
     },
     "metadata": {
      "needs_background": "light"
     },
     "output_type": "display_data"
    }
   ],
   "source": [
    "# run Monte Carlo simulations\n",
    "Influences = []  \n",
    "for i in range(sampleSize):\n",
    "    reset(FB) \n",
    "    initially_infected = initialise_infection_random(FB, ini)\n",
    "    S, I, R, endtime, ii = run_spread_simulation(FB, m, initially_infected)\n",
    "    Influences.append(float(R[-1])/len(FB))\n",
    "print('The expected influence of the seed nodes is', np.average(Influences))\n",
    "plotDistribution(Influences)"
   ]
  }
 ],
 "metadata": {
  "kernelspec": {
   "display_name": "Python 3",
   "language": "python",
   "name": "python3"
  },
  "language_info": {
   "codemirror_mode": {
    "name": "ipython",
    "version": 3
   },
   "file_extension": ".py",
   "mimetype": "text/x-python",
   "name": "python",
   "nbconvert_exporter": "python",
   "pygments_lexer": "ipython3",
   "version": "3.8.8"
  },
  "toc": {
   "base_numbering": 1,
   "nav_menu": {},
   "number_sections": true,
   "sideBar": true,
   "skip_h1_title": false,
   "title_cell": "Table of Contents",
   "title_sidebar": "Contents",
   "toc_cell": false,
   "toc_position": {},
   "toc_section_display": true,
   "toc_window_display": true
  }
 },
 "nbformat": 4,
 "nbformat_minor": 1
}
